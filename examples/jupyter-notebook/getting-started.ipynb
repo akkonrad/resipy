{
 "cells": [
  {
   "cell_type": "markdown",
   "metadata": {},
   "source": [
    "R2 basic tutorial\n",
    "=======\n",
    "\n",
    "In this tutorial you will learn how to use the Python API of R2 (http://www.es.lancs.ac.uk/people/amb/Freeware/R2/R2.htm).\n",
    "Start by importing the R2 master class from the API (Application Programming Interface)."
   ]
  },
  {
   "cell_type": "markdown",
   "metadata": {},
   "source": [
    "1 Basics imports\n",
    "---\n",
    "Just import basic packages and the R2 API as a module (note : you will need to change the path for it, here we assume you launched the jupyter from inside the /examples/jupyter-notebook folder)."
   ]
  },
  {
   "cell_type": "code",
   "execution_count": null,
   "metadata": {},
   "outputs": [],
   "source": [
    "%matplotlib inline\n",
    "import warnings\n",
    "warnings.filterwarnings('ignore')\n",
    "import os\n",
    "import sys\n",
    "sys.path.append((os.path.relpath('../..'))) # add here the relative path of the API folder\n",
    "\n",
    "from api.R2 import R2\n"
   ]
  },
  {
   "cell_type": "markdown",
   "metadata": {},
   "source": [
    "2 Create R2 object, import data and plot pseudo section\n",
    "----\n",
    "The first step is to create an object out of the R2 class, let's call it ```k``` . This is the main object we are going to interact with. Then the second step is to read the data from a survey file. Here we choose a csv file from the Syscal Pro containing resistivity data only. Note then when importing the survey data, the object automatically search for reciprocal measurements and will delete the eventual dummy measurements (we assume normal and reciprocal are contained in the same file for now)."
   ]
  },
  {
   "cell_type": "code",
   "execution_count": null,
   "metadata": {},
   "outputs": [],
   "source": [
    "k = R2('../../api/test/') # create an R2 object in a working directory (can also set using k.setwd())\n",
    "k.createSurvey('../../api/test/syscalFile.csv', ftype='Syscal') # read the survey file"
   ]
  },
  {
   "cell_type": "markdown",
   "metadata": {},
   "source": [
    "We can plot the pseudosection and display errors based on reciprocal measurements."
   ]
  },
  {
   "cell_type": "code",
   "execution_count": null,
   "metadata": {},
   "outputs": [],
   "source": [
    "k.pseudo(contour=True)\n",
    "k.plotError()"
   ]
  },
  {
   "cell_type": "markdown",
   "metadata": {},
   "source": [
    "Different errors models are available to be fitted for DC data:\n",
    "- a imple linear model: ```k.linfit()```\n",
    "- a power law model: ```k.pwlfit()```\n",
    "- a linear mixed effect model: ```k.lmefit()``` (to be implemented soon)"
   ]
  },
  {
   "cell_type": "code",
   "execution_count": null,
   "metadata": {},
   "outputs": [],
   "source": [
    "k.linfit(iplot=True)"
   ]
  },
  {
   "cell_type": "markdown",
   "metadata": {
    "collapsed": true
   },
   "source": [
    "4 Inversion using R2 wrapper\n",
    "----\n",
    "\n",
    "The inversion takes place in the specify working directory of the R2 object (```R2.setwd()```).\n",
    "First we create the mesh (quadrilateral by default, but triangular will also be available). We can display the mesh using the ```showMesh()```method."
   ]
  },
  {
   "cell_type": "code",
   "execution_count": null,
   "metadata": {
    "scrolled": false
   },
   "outputs": [],
   "source": [
    "k.createMesh(typ='quad') # generate quadrilateral mesh\n",
    "k.showMesh()"
   ]
  },
  {
   "cell_type": "markdown",
   "metadata": {},
   "source": [
    "Then we invert the data. The routine to create the ```R2.in``` is automatically called with default parameters but we can modify them using ```k.param[nameOfParameters] = parameterValue```. The name of the parameter is the same as in the R2 manual."
   ]
  },
  {
   "cell_type": "code",
   "execution_count": null,
   "metadata": {
    "scrolled": false
   },
   "outputs": [],
   "source": [
    "k.param['data_type'] = 1 # using log of resistitivy\n",
    "k.invert(iplot=True) # this will do the inversion and plot the results at the end from the _res.dat file"
   ]
  },
  {
   "cell_type": "markdown",
   "metadata": {},
   "source": [
    "In a nutshell\n",
    "===\n",
    "These few lines of code will be able to import the data, plot a pseudo section and invert them using all default parameters. Nothing else is needed."
   ]
  },
  {
   "cell_type": "code",
   "execution_count": null,
   "metadata": {},
   "outputs": [],
   "source": [
    "k = R2('../../api/test/') # create an R2 object in a working directory (can also set using k.setwd())\n",
    "k.createSurvey('../../api/test/syscalFile.csv', ftype='Syscal') # read the survey file\n",
    "k.pseudo() # plot pseudo section\n",
    "k.invert(iplot=True) # does the inversion (generate quand mesh and use default R2.in settings)"
   ]
  },
  {
   "cell_type": "markdown",
   "metadata": {},
   "source": [
    "The ```k``` variable is an R2 object:"
   ]
  },
  {
   "cell_type": "code",
   "execution_count": null,
   "metadata": {},
   "outputs": [],
   "source": [
    "print(k)"
   ]
  },
  {
   "cell_type": "code",
   "execution_count": null,
   "metadata": {},
   "outputs": [],
   "source": []
  }
 ],
 "metadata": {
  "kernelspec": {
   "display_name": "Python 3",
   "language": "python",
   "name": "python3"
  },
  "language_info": {
   "codemirror_mode": {
    "name": "ipython",
    "version": 3
   },
   "file_extension": ".py",
   "mimetype": "text/x-python",
   "name": "python",
   "nbconvert_exporter": "python",
   "pygments_lexer": "ipython3",
   "version": "3.5.3"
  }
 },
 "nbformat": 4,
 "nbformat_minor": 2
}
